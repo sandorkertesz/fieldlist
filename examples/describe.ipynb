{
 "cells": [
  {
   "cell_type": "code",
   "execution_count": 1,
   "metadata": {},
   "outputs": [],
   "source": [
    "from fieldlist import FieldList\n",
    "path = \"/Users/cgr/metview/python_test/tuv_pl.grib\"\n",
    "\n",
    "ft = FieldList(path)"
   ]
  },
  {
   "cell_type": "code",
   "execution_count": 2,
   "metadata": {},
   "outputs": [
    {
     "data": {
      "text/html": [
       "<style type=\"text/css\">\n",
       "#T_6757d th {\n",
       "  text-align: left;\n",
       "}\n",
       "#T_6757d_row0_col0, #T_6757d_row0_col1, #T_6757d_row0_col2, #T_6757d_row0_col3, #T_6757d_row0_col4, #T_6757d_row0_col5, #T_6757d_row0_col6, #T_6757d_row0_col7, #T_6757d_row0_col8, #T_6757d_row1_col0, #T_6757d_row1_col1, #T_6757d_row1_col2, #T_6757d_row1_col3, #T_6757d_row1_col4, #T_6757d_row1_col5, #T_6757d_row1_col6, #T_6757d_row1_col7, #T_6757d_row1_col8, #T_6757d_row2_col0, #T_6757d_row2_col1, #T_6757d_row2_col2, #T_6757d_row2_col3, #T_6757d_row2_col4, #T_6757d_row2_col5, #T_6757d_row2_col6, #T_6757d_row2_col7, #T_6757d_row2_col8 {\n",
       "  text-align: left;\n",
       "}\n",
       "</style>\n",
       "<table id=\"T_6757d\">\n",
       "  <thead>\n",
       "    <tr>\n",
       "      <th class=\"blank\" >&nbsp;</th>\n",
       "      <th class=\"blank level0\" >&nbsp;</th>\n",
       "      <th id=\"T_6757d_level0_col0\" class=\"col_heading level0 col0\" >level</th>\n",
       "      <th id=\"T_6757d_level0_col1\" class=\"col_heading level0 col1\" >date</th>\n",
       "      <th id=\"T_6757d_level0_col2\" class=\"col_heading level0 col2\" >time</th>\n",
       "      <th id=\"T_6757d_level0_col3\" class=\"col_heading level0 col3\" >step</th>\n",
       "      <th id=\"T_6757d_level0_col4\" class=\"col_heading level0 col4\" >paramId</th>\n",
       "      <th id=\"T_6757d_level0_col5\" class=\"col_heading level0 col5\" >class</th>\n",
       "      <th id=\"T_6757d_level0_col6\" class=\"col_heading level0 col6\" >stream</th>\n",
       "      <th id=\"T_6757d_level0_col7\" class=\"col_heading level0 col7\" >type</th>\n",
       "      <th id=\"T_6757d_level0_col8\" class=\"col_heading level0 col8\" >experimentVersionNumber</th>\n",
       "    </tr>\n",
       "    <tr>\n",
       "      <th class=\"index_name level0\" >shortName</th>\n",
       "      <th class=\"index_name level1\" >typeOfLevel</th>\n",
       "      <th class=\"blank col0\" >&nbsp;</th>\n",
       "      <th class=\"blank col1\" >&nbsp;</th>\n",
       "      <th class=\"blank col2\" >&nbsp;</th>\n",
       "      <th class=\"blank col3\" >&nbsp;</th>\n",
       "      <th class=\"blank col4\" >&nbsp;</th>\n",
       "      <th class=\"blank col5\" >&nbsp;</th>\n",
       "      <th class=\"blank col6\" >&nbsp;</th>\n",
       "      <th class=\"blank col7\" >&nbsp;</th>\n",
       "      <th class=\"blank col8\" >&nbsp;</th>\n",
       "    </tr>\n",
       "  </thead>\n",
       "  <tbody>\n",
       "    <tr>\n",
       "      <th id=\"T_6757d_level0_row0\" class=\"row_heading level0 row0\" >t</th>\n",
       "      <th id=\"T_6757d_level1_row0\" class=\"row_heading level1 row0\" >isobaricInhPa</th>\n",
       "      <td id=\"T_6757d_row0_col0\" class=\"data row0 col0\" >1000,300,...</td>\n",
       "      <td id=\"T_6757d_row0_col1\" class=\"data row0 col1\" >20180801</td>\n",
       "      <td id=\"T_6757d_row0_col2\" class=\"data row0 col2\" >1200</td>\n",
       "      <td id=\"T_6757d_row0_col3\" class=\"data row0 col3\" >0</td>\n",
       "      <td id=\"T_6757d_row0_col4\" class=\"data row0 col4\" >130</td>\n",
       "      <td id=\"T_6757d_row0_col5\" class=\"data row0 col5\" >od</td>\n",
       "      <td id=\"T_6757d_row0_col6\" class=\"data row0 col6\" >oper</td>\n",
       "      <td id=\"T_6757d_row0_col7\" class=\"data row0 col7\" >an</td>\n",
       "      <td id=\"T_6757d_row0_col8\" class=\"data row0 col8\" >0001</td>\n",
       "    </tr>\n",
       "    <tr>\n",
       "      <th id=\"T_6757d_level0_row1\" class=\"row_heading level0 row1\" >u</th>\n",
       "      <th id=\"T_6757d_level1_row1\" class=\"row_heading level1 row1\" >isobaricInhPa</th>\n",
       "      <td id=\"T_6757d_row1_col0\" class=\"data row1 col0\" >1000,300,...</td>\n",
       "      <td id=\"T_6757d_row1_col1\" class=\"data row1 col1\" >20180801</td>\n",
       "      <td id=\"T_6757d_row1_col2\" class=\"data row1 col2\" >1200</td>\n",
       "      <td id=\"T_6757d_row1_col3\" class=\"data row1 col3\" >0</td>\n",
       "      <td id=\"T_6757d_row1_col4\" class=\"data row1 col4\" >131</td>\n",
       "      <td id=\"T_6757d_row1_col5\" class=\"data row1 col5\" >od</td>\n",
       "      <td id=\"T_6757d_row1_col6\" class=\"data row1 col6\" >oper</td>\n",
       "      <td id=\"T_6757d_row1_col7\" class=\"data row1 col7\" >an</td>\n",
       "      <td id=\"T_6757d_row1_col8\" class=\"data row1 col8\" >0001</td>\n",
       "    </tr>\n",
       "    <tr>\n",
       "      <th id=\"T_6757d_level0_row2\" class=\"row_heading level0 row2\" >v</th>\n",
       "      <th id=\"T_6757d_level1_row2\" class=\"row_heading level1 row2\" >isobaricInhPa</th>\n",
       "      <td id=\"T_6757d_row2_col0\" class=\"data row2 col0\" >1000,300,...</td>\n",
       "      <td id=\"T_6757d_row2_col1\" class=\"data row2 col1\" >20180801</td>\n",
       "      <td id=\"T_6757d_row2_col2\" class=\"data row2 col2\" >1200</td>\n",
       "      <td id=\"T_6757d_row2_col3\" class=\"data row2 col3\" >0</td>\n",
       "      <td id=\"T_6757d_row2_col4\" class=\"data row2 col4\" >132</td>\n",
       "      <td id=\"T_6757d_row2_col5\" class=\"data row2 col5\" >od</td>\n",
       "      <td id=\"T_6757d_row2_col6\" class=\"data row2 col6\" >oper</td>\n",
       "      <td id=\"T_6757d_row2_col7\" class=\"data row2 col7\" >an</td>\n",
       "      <td id=\"T_6757d_row2_col8\" class=\"data row2 col8\" >0001</td>\n",
       "    </tr>\n",
       "  </tbody>\n",
       "</table>\n"
      ],
      "text/plain": [
       "<pandas.io.formats.style.Styler at 0x10a293040>"
      ]
     },
     "execution_count": 2,
     "metadata": {},
     "output_type": "execute_result"
    }
   ],
   "source": [
    "a = ft.describe()\n",
    "a"
   ]
  },
  {
   "cell_type": "code",
   "execution_count": 3,
   "metadata": {},
   "outputs": [
    {
     "data": {
      "text/html": [
       "<style type=\"text/css\">\n",
       "#T_b879d th {\n",
       "  text-align: left;\n",
       "}\n",
       "#T_b879d_row0_col0, #T_b879d_row1_col0, #T_b879d_row2_col0, #T_b879d_row3_col0, #T_b879d_row4_col0, #T_b879d_row5_col0, #T_b879d_row6_col0, #T_b879d_row7_col0, #T_b879d_row8_col0, #T_b879d_row9_col0, #T_b879d_row10_col0 {\n",
       "  text-align: left;\n",
       "}\n",
       "</style>\n",
       "<table id=\"T_b879d\">\n",
       "  <thead>\n",
       "  </thead>\n",
       "  <tbody>\n",
       "    <tr>\n",
       "      <th id=\"T_b879d_level0_row0\" class=\"row_heading level0 row0\" >shortName</th>\n",
       "      <td id=\"T_b879d_row0_col0\" class=\"data row0 col0\" >t</td>\n",
       "    </tr>\n",
       "    <tr>\n",
       "      <th id=\"T_b879d_level0_row1\" class=\"row_heading level0 row1\" >typeOfLevel</th>\n",
       "      <td id=\"T_b879d_row1_col0\" class=\"data row1 col0\" >isobaricInhPa</td>\n",
       "    </tr>\n",
       "    <tr>\n",
       "      <th id=\"T_b879d_level0_row2\" class=\"row_heading level0 row2\" >level</th>\n",
       "      <td id=\"T_b879d_row2_col0\" class=\"data row2 col0\" >1000,300,400,850,500,700</td>\n",
       "    </tr>\n",
       "    <tr>\n",
       "      <th id=\"T_b879d_level0_row3\" class=\"row_heading level0 row3\" >date</th>\n",
       "      <td id=\"T_b879d_row3_col0\" class=\"data row3 col0\" >20180801</td>\n",
       "    </tr>\n",
       "    <tr>\n",
       "      <th id=\"T_b879d_level0_row4\" class=\"row_heading level0 row4\" >time</th>\n",
       "      <td id=\"T_b879d_row4_col0\" class=\"data row4 col0\" >1200</td>\n",
       "    </tr>\n",
       "    <tr>\n",
       "      <th id=\"T_b879d_level0_row5\" class=\"row_heading level0 row5\" >step</th>\n",
       "      <td id=\"T_b879d_row5_col0\" class=\"data row5 col0\" >0</td>\n",
       "    </tr>\n",
       "    <tr>\n",
       "      <th id=\"T_b879d_level0_row6\" class=\"row_heading level0 row6\" >paramId</th>\n",
       "      <td id=\"T_b879d_row6_col0\" class=\"data row6 col0\" >130</td>\n",
       "    </tr>\n",
       "    <tr>\n",
       "      <th id=\"T_b879d_level0_row7\" class=\"row_heading level0 row7\" >class</th>\n",
       "      <td id=\"T_b879d_row7_col0\" class=\"data row7 col0\" >od</td>\n",
       "    </tr>\n",
       "    <tr>\n",
       "      <th id=\"T_b879d_level0_row8\" class=\"row_heading level0 row8\" >stream</th>\n",
       "      <td id=\"T_b879d_row8_col0\" class=\"data row8 col0\" >oper</td>\n",
       "    </tr>\n",
       "    <tr>\n",
       "      <th id=\"T_b879d_level0_row9\" class=\"row_heading level0 row9\" >type</th>\n",
       "      <td id=\"T_b879d_row9_col0\" class=\"data row9 col0\" >an</td>\n",
       "    </tr>\n",
       "    <tr>\n",
       "      <th id=\"T_b879d_level0_row10\" class=\"row_heading level0 row10\" >experimentVersionNumber</th>\n",
       "      <td id=\"T_b879d_row10_col0\" class=\"data row10 col0\" >0001</td>\n",
       "    </tr>\n",
       "  </tbody>\n",
       "</table>\n"
      ],
      "text/plain": [
       "<pandas.io.formats.style.Styler at 0x11d8c2850>"
      ]
     },
     "execution_count": 3,
     "metadata": {},
     "output_type": "execute_result"
    }
   ],
   "source": [
    "ft.describe(130)"
   ]
  },
  {
   "cell_type": "code",
   "execution_count": 4,
   "metadata": {},
   "outputs": [
    {
     "data": {
      "text/html": [
       "<style type=\"text/css\">\n",
       "#T_aae60 th {\n",
       "  text-align: left;\n",
       "}\n",
       "#T_aae60_row0_col0, #T_aae60_row1_col0, #T_aae60_row2_col0, #T_aae60_row3_col0, #T_aae60_row4_col0, #T_aae60_row5_col0, #T_aae60_row6_col0, #T_aae60_row7_col0, #T_aae60_row8_col0, #T_aae60_row9_col0, #T_aae60_row10_col0 {\n",
       "  text-align: left;\n",
       "}\n",
       "</style>\n",
       "<table id=\"T_aae60\">\n",
       "  <thead>\n",
       "  </thead>\n",
       "  <tbody>\n",
       "    <tr>\n",
       "      <th id=\"T_aae60_level0_row0\" class=\"row_heading level0 row0\" >shortName</th>\n",
       "      <td id=\"T_aae60_row0_col0\" class=\"data row0 col0\" >u</td>\n",
       "    </tr>\n",
       "    <tr>\n",
       "      <th id=\"T_aae60_level0_row1\" class=\"row_heading level0 row1\" >typeOfLevel</th>\n",
       "      <td id=\"T_aae60_row1_col0\" class=\"data row1 col0\" >isobaricInhPa</td>\n",
       "    </tr>\n",
       "    <tr>\n",
       "      <th id=\"T_aae60_level0_row2\" class=\"row_heading level0 row2\" >level</th>\n",
       "      <td id=\"T_aae60_row2_col0\" class=\"data row2 col0\" >1000,300,400,850,500,700</td>\n",
       "    </tr>\n",
       "    <tr>\n",
       "      <th id=\"T_aae60_level0_row3\" class=\"row_heading level0 row3\" >date</th>\n",
       "      <td id=\"T_aae60_row3_col0\" class=\"data row3 col0\" >20180801</td>\n",
       "    </tr>\n",
       "    <tr>\n",
       "      <th id=\"T_aae60_level0_row4\" class=\"row_heading level0 row4\" >time</th>\n",
       "      <td id=\"T_aae60_row4_col0\" class=\"data row4 col0\" >1200</td>\n",
       "    </tr>\n",
       "    <tr>\n",
       "      <th id=\"T_aae60_level0_row5\" class=\"row_heading level0 row5\" >step</th>\n",
       "      <td id=\"T_aae60_row5_col0\" class=\"data row5 col0\" >0</td>\n",
       "    </tr>\n",
       "    <tr>\n",
       "      <th id=\"T_aae60_level0_row6\" class=\"row_heading level0 row6\" >paramId</th>\n",
       "      <td id=\"T_aae60_row6_col0\" class=\"data row6 col0\" >131</td>\n",
       "    </tr>\n",
       "    <tr>\n",
       "      <th id=\"T_aae60_level0_row7\" class=\"row_heading level0 row7\" >class</th>\n",
       "      <td id=\"T_aae60_row7_col0\" class=\"data row7 col0\" >od</td>\n",
       "    </tr>\n",
       "    <tr>\n",
       "      <th id=\"T_aae60_level0_row8\" class=\"row_heading level0 row8\" >stream</th>\n",
       "      <td id=\"T_aae60_row8_col0\" class=\"data row8 col0\" >oper</td>\n",
       "    </tr>\n",
       "    <tr>\n",
       "      <th id=\"T_aae60_level0_row9\" class=\"row_heading level0 row9\" >type</th>\n",
       "      <td id=\"T_aae60_row9_col0\" class=\"data row9 col0\" >an</td>\n",
       "    </tr>\n",
       "    <tr>\n",
       "      <th id=\"T_aae60_level0_row10\" class=\"row_heading level0 row10\" >experimentVersionNumber</th>\n",
       "      <td id=\"T_aae60_row10_col0\" class=\"data row10 col0\" >0001</td>\n",
       "    </tr>\n",
       "  </tbody>\n",
       "</table>\n"
      ],
      "text/plain": [
       "<pandas.io.formats.style.Styler at 0x11ebfdc10>"
      ]
     },
     "execution_count": 4,
     "metadata": {},
     "output_type": "execute_result"
    }
   ],
   "source": [
    "ft.describe(\"u\")"
   ]
  },
  {
   "cell_type": "code",
   "execution_count": 5,
   "metadata": {},
   "outputs": [
    {
     "data": {
      "text/plain": [
       "Index(['shortName', 'typeOfLevel', 'level', 'date', 'time', 'step', 'paramId',\n",
       "       'class', 'stream', 'type', 'experimentVersionNumber'],\n",
       "      dtype='object')"
      ]
     },
     "execution_count": 5,
     "metadata": {},
     "output_type": "execute_result"
    }
   ],
   "source": [
    "a=ft.describe(\"u\")\n",
    "a.index"
   ]
  },
  {
   "cell_type": "code",
   "execution_count": null,
   "metadata": {},
   "outputs": [],
   "source": []
  },
  {
   "cell_type": "code",
   "execution_count": 6,
   "metadata": {},
   "outputs": [
    {
     "ename": "AttributeError",
     "evalue": "'Styler' object has no attribute 'drop'",
     "output_type": "error",
     "traceback": [
      "\u001b[0;31m---------------------------------------------------------------------------\u001b[0m",
      "\u001b[0;31mAttributeError\u001b[0m                            Traceback (most recent call last)",
      "Cell \u001b[0;32mIn [6], line 1\u001b[0m\n\u001b[0;32m----> 1\u001b[0m \u001b[43ma\u001b[49m\u001b[38;5;241;43m.\u001b[39;49m\u001b[43mdrop\u001b[49m(\u001b[38;5;124m\"\u001b[39m\u001b[38;5;124mnumber\u001b[39m\u001b[38;5;124m\"\u001b[39m, axis\u001b[38;5;241m=\u001b[39m\u001b[38;5;241m0\u001b[39m)\n",
      "\u001b[0;31mAttributeError\u001b[0m: 'Styler' object has no attribute 'drop'"
     ]
    }
   ],
   "source": []
  },
  {
   "cell_type": "code",
   "execution_count": null,
   "metadata": {},
   "outputs": [],
   "source": [
    "a"
   ]
  }
 ],
 "metadata": {
  "kernelspec": {
   "display_name": "mpy38",
   "language": "python",
   "name": "mpy38"
  },
  "language_info": {
   "codemirror_mode": {
    "name": "ipython",
    "version": 3
   },
   "file_extension": ".py",
   "mimetype": "text/x-python",
   "name": "python",
   "nbconvert_exporter": "python",
   "pygments_lexer": "ipython3",
   "version": "3.8.15"
  }
 },
 "nbformat": 4,
 "nbformat_minor": 4
}
