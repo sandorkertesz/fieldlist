{
 "cells": [
  {
   "cell_type": "code",
   "execution_count": 1,
   "metadata": {},
   "outputs": [],
   "source": [
    "from fieldlist import FieldList"
   ]
  },
  {
   "cell_type": "code",
   "execution_count": 2,
   "metadata": {},
   "outputs": [
    {
     "data": {
      "text/plain": [
       "<fieldlist.fieldlist_mv.FieldList at 0x11ed26e20>"
      ]
     },
     "execution_count": 2,
     "metadata": {},
     "output_type": "execute_result"
    }
   ],
   "source": [
    "fs = FieldList(\"/Users/cgr/metview/python_test/tuv_pl.grib\")\n",
    "fs"
   ]
  },
  {
   "cell_type": "code",
   "execution_count": 3,
   "metadata": {},
   "outputs": [
    {
     "data": {
      "text/plain": [
       "18"
      ]
     },
     "execution_count": 3,
     "metadata": {},
     "output_type": "execute_result"
    }
   ],
   "source": [
    "len(fs)"
   ]
  },
  {
   "cell_type": "code",
   "execution_count": 4,
   "metadata": {},
   "outputs": [
    {
     "name": "stdout",
     "output_type": "stream",
     "text": [
      "Expand: 0\n",
      "Release: 0\n",
      "Expand: 1440\n",
      "Release: 1440\n",
      "Expand: 2880\n",
      "Release: 2880\n",
      "Expand: 4320\n",
      "Release: 4320\n",
      "Expand: 5760\n",
      "Release: 5760\n",
      "Expand: 7200\n",
      "Release: 7200\n",
      "Expand: 8640\n",
      "Release: 8640\n",
      "Expand: 10080\n",
      "Release: 10080\n",
      "Expand: 11520\n",
      "Release: 11520\n",
      "Expand: 12960\n",
      "Release: 12960\n",
      "Expand: 14400\n",
      "Release: 14400\n",
      "Expand: 15840\n",
      "Release: 15840\n",
      "Expand: 17280\n",
      "Release: 17280\n",
      "Expand: 18720\n",
      "Release: 18720\n",
      "Expand: 20160\n",
      "Release: 20160\n",
      "Expand: 21600\n",
      "Release: 21600\n",
      "Expand: 23040\n",
      "Release: 23040\n",
      "Expand: 24480\n",
      "Release: 24480\n"
     ]
    },
    {
     "data": {
      "text/plain": [
       "[1000,\n",
       " 1000,\n",
       " 1000,\n",
       " 850,\n",
       " 850,\n",
       " 850,\n",
       " 700,\n",
       " 700,\n",
       " 700,\n",
       " 500,\n",
       " 500,\n",
       " 500,\n",
       " 400,\n",
       " 400,\n",
       " 400,\n",
       " 300,\n",
       " 300,\n",
       " 300]"
      ]
     },
     "execution_count": 4,
     "metadata": {},
     "output_type": "execute_result"
    }
   ],
   "source": [
    "fs[\"level\"]"
   ]
  },
  {
   "cell_type": "code",
   "execution_count": 5,
   "metadata": {},
   "outputs": [
    {
     "name": "stdout",
     "output_type": "stream",
     "text": [
      "Expand: 0\n",
      "Release: 0\n",
      "Expand: 1440\n",
      "Release: 1440\n",
      "Expand: 2880\n",
      "Release: 2880\n",
      "Expand: 4320\n",
      "Release: 4320\n",
      "Expand: 5760\n",
      "Release: 5760\n",
      "Expand: 7200\n",
      "Release: 7200\n",
      "Expand: 8640\n",
      "Release: 8640\n",
      "Expand: 10080\n",
      "Release: 10080\n",
      "Expand: 11520\n",
      "Release: 11520\n",
      "Expand: 12960\n",
      "Release: 12960\n",
      "Expand: 14400\n",
      "Release: 14400\n",
      "Expand: 15840\n",
      "Release: 15840\n",
      "Expand: 17280\n",
      "Release: 17280\n",
      "Expand: 18720\n",
      "Release: 18720\n",
      "Expand: 20160\n",
      "Release: 20160\n",
      "Expand: 21600\n",
      "Release: 21600\n",
      "Expand: 23040\n",
      "Release: 23040\n",
      "Expand: 24480\n",
      "Release: 24480\n"
     ]
    },
    {
     "data": {
      "text/plain": [
       "['t',\n",
       " 'u',\n",
       " 'v',\n",
       " 't',\n",
       " 'u',\n",
       " 'v',\n",
       " 't',\n",
       " 'u',\n",
       " 'v',\n",
       " 't',\n",
       " 'u',\n",
       " 'v',\n",
       " 't',\n",
       " 'u',\n",
       " 'v',\n",
       " 't',\n",
       " 'u',\n",
       " 'v']"
      ]
     },
     "execution_count": 5,
     "metadata": {},
     "output_type": "execute_result"
    }
   ],
   "source": [
    "fs.get(\"shortName\")"
   ]
  },
  {
   "cell_type": "code",
   "execution_count": 6,
   "metadata": {},
   "outputs": [
    {
     "name": "stdout",
     "output_type": "stream",
     "text": [
      "Expand: 0\n",
      "Release: 0\n",
      "Expand: 1440\n",
      "Release: 1440\n",
      "Expand: 2880\n",
      "Release: 2880\n",
      "Expand: 4320\n",
      "Release: 4320\n",
      "Expand: 5760\n",
      "Release: 5760\n",
      "Expand: 7200\n",
      "Release: 7200\n",
      "Expand: 8640\n",
      "Release: 8640\n",
      "Expand: 10080\n",
      "Release: 10080\n",
      "Expand: 11520\n",
      "Release: 11520\n",
      "Expand: 12960\n",
      "Release: 12960\n",
      "Expand: 14400\n",
      "Release: 14400\n",
      "Expand: 15840\n",
      "Release: 15840\n",
      "Expand: 17280\n",
      "Release: 17280\n",
      "Expand: 18720\n",
      "Release: 18720\n",
      "Expand: 20160\n",
      "Release: 20160\n",
      "Expand: 21600\n",
      "Release: 21600\n",
      "Expand: 23040\n",
      "Release: 23040\n",
      "Expand: 24480\n",
      "Release: 24480\n"
     ]
    }
   ],
   "source": [
    "g = fs.set(level=925)"
   ]
  },
  {
   "cell_type": "code",
   "execution_count": 7,
   "metadata": {},
   "outputs": [
    {
     "data": {
      "text/plain": [
       "18"
      ]
     },
     "execution_count": 7,
     "metadata": {},
     "output_type": "execute_result"
    }
   ],
   "source": [
    "len(g)"
   ]
  },
  {
   "cell_type": "code",
   "execution_count": 8,
   "metadata": {},
   "outputs": [
    {
     "name": "stdout",
     "output_type": "stream",
     "text": [
      "Release: 0\n",
      "Release: 1440\n",
      "Release: 2880\n",
      "Release: 4320\n",
      "Release: 5760\n",
      "Release: 7200\n",
      "Release: 8640\n",
      "Release: 10080\n",
      "Release: 11520\n",
      "Release: 12960\n",
      "Release: 14400\n",
      "Release: 15840\n",
      "Release: 17280\n",
      "Release: 18720\n",
      "Release: 20160\n",
      "Release: 21600\n",
      "Release: 23040\n",
      "Release: 24480\n"
     ]
    },
    {
     "data": {
      "text/plain": [
       "[925,\n",
       " 925,\n",
       " 925,\n",
       " 925,\n",
       " 925,\n",
       " 925,\n",
       " 925,\n",
       " 925,\n",
       " 925,\n",
       " 925,\n",
       " 925,\n",
       " 925,\n",
       " 925,\n",
       " 925,\n",
       " 925,\n",
       " 925,\n",
       " 925,\n",
       " 925]"
      ]
     },
     "execution_count": 8,
     "metadata": {},
     "output_type": "execute_result"
    }
   ],
   "source": [
    "g[\"level\"]"
   ]
  },
  {
   "cell_type": "code",
   "execution_count": null,
   "metadata": {},
   "outputs": [],
   "source": []
  }
 ],
 "metadata": {
  "kernelspec": {
   "display_name": "mpy38",
   "language": "python",
   "name": "mpy38"
  },
  "language_info": {
   "codemirror_mode": {
    "name": "ipython",
    "version": 3
   },
   "file_extension": ".py",
   "mimetype": "text/x-python",
   "name": "python",
   "nbconvert_exporter": "python",
   "pygments_lexer": "ipython3",
   "version": "3.8.15"
  }
 },
 "nbformat": 4,
 "nbformat_minor": 4
}
